{
 "cells": [
  {
   "cell_type": "code",
   "execution_count": 1,
   "metadata": {},
   "outputs": [],
   "source": [
    "from selenium import webdriver\n",
    "from selenium.webdriver.chrome.service import Service\n",
    "from selenium.webdriver.common.by import By\n",
    "import time\n",
    "import concurrent.futures\n",
    "service = Service()\n",
    "options = webdriver.ChromeOptions()\n",
    "navegador = webdriver.Chrome(service=service, options=options)"
   ]
  },
  {
   "cell_type": "code",
   "execution_count": 2,
   "metadata": {},
   "outputs": [
    {
     "name": "stdout",
     "output_type": "stream",
     "text": [
      "EXECUTANDO ROBÔ ATIVADOR DE AUTODIAGNÓSTICOS - BM\n"
     ]
    }
   ],
   "source": [
    "print('EXECUTANDO ROBÔ ATIVADOR DE AUTODIAGNÓSTICOS - BM')\n",
    "navegador.get('http://192.168.3.128')\n",
    "time.sleep(2)"
   ]
  },
  {
   "cell_type": "code",
   "execution_count": 3,
   "metadata": {},
   "outputs": [],
   "source": [
    "try:\n",
    "    navegador.find_element(By.XPATH,'//*[@id=\"buttonEntrar\"]').click()\n",
    "    time.sleep(2)\n",
    "    navegador.find_element(By.XPATH, '//*[@id=\"inputUsuario\"]').send_keys('TTadmin')\n",
    "    navegador.find_element(By.XPATH, '//*[@id=\"inputSenha\"]').send_keys('senh@Intern@')\n",
    "    navegador.find_element(By.XPATH, '//*[@id=\"btn-submit\"]').click()\n",
    "except:\n",
    "    navegador.find_element(By.XPATH, '//*[@id=\"divNavbar\"]/nav/div/div[1]/button').click()\n",
    "    time.sleep(2)\n",
    "    navegador.find_element(By.XPATH,'//*[@id=\"buttonEntrar\"]').click()\n",
    "    time.sleep(2)\n",
    "    navegador.find_element(By.XPATH, '//*[@id=\"inputUsuario\"]').send_keys('TTadmin')\n",
    "    navegador.find_element(By.XPATH, '//*[@id=\"inputSenha\"]').send_keys('senh@Intern@')\n",
    "    navegador.find_element(By.XPATH, '//*[@id=\"btn-submit\"]').click()"
   ]
  },
  {
   "cell_type": "code",
   "execution_count": 4,
   "metadata": {},
   "outputs": [],
   "source": [
    "time.sleep(2)\n",
    "navegador.get('http://192.168.3.128/menu/online/index.php?ied=BM')\n",
    "time.sleep(2)\n",
    "navegador.find_element(By.XPATH,'//*[@id=\"tableAbstrato_length\"]/label/select').send_keys('t')\n",
    "navegador.find_element(By.XPATH,'//*[@id=\"tableAbstrato_filter\"]/label/input').clear()\n",
    "navegador.find_element(By.XPATH,'//*[@id=\"tableAbstrato_filter\"]/label/input').send_keys('\"desativado\"')\n",
    "navegador.find_element(By.XPATH,'//*[@id=\"tableAbstrato\"]/thead/tr/th[2]').click()\n",
    "navegador.find_element(By.XPATH,'//*[@id=\"tableAbstrato\"]/thead/tr/th[2]').click()\n"
   ]
  },
  {
   "cell_type": "code",
   "execution_count": 5,
   "metadata": {},
   "outputs": [],
   "source": [
    "def alteracoes():\n",
    "    navegador.find_element(By.CLASS_NAME, 'sorting_1').click()\n",
    "    time.sleep(2)\n",
    "    navegador.find_element(By.XPATH, '//*[@id=\"divToggle\"]/div/div/label[2]').click()\n",
    "    navegador.find_element(By.XPATH, '//*[@id=\"change\"]').click()\n",
    "    navegador.find_element(By.XPATH, '//*[@id=\"change\"]').send_keys('\\ue00c')"
   ]
  },
  {
   "cell_type": "code",
   "execution_count": null,
   "metadata": {},
   "outputs": [],
   "source": [
    "i = 0\n",
    "while i < 201:\n",
    "    try:\n",
    "        with concurrent.futures.ThreadPoolExecutor() as executor:\n",
    "            future = executor.submit(alteracoes)\n",
    "            future.result(timeout=10)\n",
    "        i = i + 1\n",
    "        time.sleep(2)\n",
    "        navegador.find_element(By.XPATH,'//*[@id=\"tableAbstrato\"]/thead/tr/th[2]').click()\n",
    "        print('Alterações realizadas: ', i)\n",
    "    except concurrent.futures.TimeoutError:\n",
    "        print(\"O tempo limite foi excedido.\")\n",
    "        input('aperte uma tecla para fechar o programa...')\n",
    "        break\n",
    "\n",
    "print('Alterações concluídas')\n",
    "input('aperte uma tecla para fechar o programa...')"
   ]
  },
  {
   "cell_type": "code",
   "execution_count": null,
   "metadata": {},
   "outputs": [],
   "source": [
    "navegador.find_element(By.XPATH,'//*[@id=\"tableAbstrato_filter\"]/label/input').send_keys('\\ue005')\n",
    "navegador.find_element(By.XPATH,'//*[@id=\"tableAbstrato_filter\"]/label/input').clear()\n",
    "navegador.find_element(By.XPATH,'//*[@id=\"tableAbstrato_filter\"]/label/input').send_keys('\"não acionado\"')\n",
    "navegador.find_element(By.XPATH,'//*[@id=\"tableAbstrato\"]/thead/tr/th[2]').click()\n",
    "navegador.find_element(By.XPATH,'//*[@id=\"tableAbstrato\"]/thead/tr/th[2]').click()"
   ]
  },
  {
   "cell_type": "code",
   "execution_count": null,
   "metadata": {},
   "outputs": [],
   "source": [
    "i = 93\n",
    "while i > 0:\n",
    "    try:\n",
    "        navegador.find_element(By.CLASS_NAME, 'sorting_1').click()\n",
    "        time.sleep(1)\n",
    "        navegador.find_element(By.XPATH, '//*[@id=\"divToggle\"]/div/div/label[2]').click()\n",
    "        navegador.find_element(By.XPATH, '//*[@id=\"change\"]').click()\n",
    "        navegador.find_element(By.XPATH, '//*[@id=\"change\"]').send_keys('\\ue00c')\n",
    "        i = i - 1\n",
    "        time.sleep(2)\n",
    "        print('Alterações restantes', i)\n",
    "    finally:\n",
    "        continue\n",
    "print('Alterações concluídas. Seguindo para a próxima alteração')"
   ]
  },
  {
   "cell_type": "code",
   "execution_count": 6,
   "metadata": {},
   "outputs": [],
   "source": [
    "time.sleep(2)\n",
    "navegador.get('http://192.168.3.128/menu/online/index.php?ied=TM')\n",
    "time.sleep(2)\n",
    "navegador.find_element(By.XPATH,'//*[@id=\"tableAbstrato_length\"]/label/select').send_keys('t')\n",
    "navegador.find_element(By.XPATH,'//*[@id=\"tableAbstrato_filter\"]/label/input').clear()\n",
    "navegador.find_element(By.XPATH,'//*[@id=\"tableAbstrato_filter\"]/label/input').send_keys('\"desativado\"')\n",
    "navegador.find_element(By.XPATH,'//*[@id=\"tableAbstrato\"]/thead/tr/th[2]').click()\n",
    "navegador.find_element(By.XPATH,'//*[@id=\"tableAbstrato\"]/thead/tr/th[2]').click()"
   ]
  },
  {
   "cell_type": "code",
   "execution_count": null,
   "metadata": {},
   "outputs": [],
   "source": [
    "i = 50\n",
    "while i > 0:\n",
    "    try:\n",
    "        navegador.find_element(By.CLASS_NAME, 'sorting_1').click()\n",
    "        time.sleep(1)\n",
    "        navegador.find_element(By.XPATH, '//*[@id=\"divToggle\"]/div/div/label[2]').click()\n",
    "        navegador.find_element(By.XPATH, '//*[@id=\"change\"]').click()\n",
    "        navegador.find_element(By.XPATH, '//*[@id=\"change\"]').send_keys('\\ue00c')\n",
    "        i = i - 1\n",
    "        time.sleep(2)\n",
    "        print('Alterações restantes', i)\n",
    "    finally:\n",
    "        continue\n",
    "print('Alterações concluídas. Seguindo para a próxima alteração')"
   ]
  },
  {
   "cell_type": "code",
   "execution_count": 5,
   "metadata": {},
   "outputs": [],
   "source": [
    "navegador.find_element(By.XPATH,'//*[@id=\"tableAbstrato_filter\"]/label/input').clear()\n",
    "time.sleep(1)\n",
    "navegador.find_element(By.XPATH,'//*[@id=\"tableAbstrato_filter\"]/label/input').send_keys('\"aberto\"')\n",
    "navegador.find_element(By.XPATH,'//*[@id=\"tableAbstrato\"]/thead/tr/th[2]').click()\n",
    "navegador.find_element(By.XPATH,'//*[@id=\"tableAbstrato\"]/thead/tr/th[2]').click()"
   ]
  },
  {
   "cell_type": "code",
   "execution_count": 19,
   "metadata": {},
   "outputs": [],
   "source": [
    "i = 16\n",
    "while i > 0:\n",
    "    try:\n",
    "        navegador.find_element(By.CLASS_NAME, 'sorting_1').click()\n",
    "        time.sleep(1)\n",
    "        navegador.find_element(By.XPATH, '//*[@id=\"divToggle\"]/div/div/label[2]').click()\n",
    "        navegador.find_element(By.XPATH, '//*[@id=\"change\"]').click()\n",
    "        navegador.find_element(By.XPATH, '//*[@id=\"change\"]').send_keys('\\ue00c')\n",
    "        i = i - 1\n",
    "        time.sleep(2)\n",
    "        print('Alterações restantes: ', i)\n",
    "    finally:\n",
    "        continue\n",
    "print('Alterações concluídas')"
   ]
  }
 ],
 "metadata": {
  "kernelspec": {
   "display_name": "Python 3",
   "language": "python",
   "name": "python3"
  },
  "language_info": {
   "codemirror_mode": {
    "name": "ipython",
    "version": 3
   },
   "file_extension": ".py",
   "mimetype": "text/x-python",
   "name": "python",
   "nbconvert_exporter": "python",
   "pygments_lexer": "ipython3",
   "version": "3.10.2"
  }
 },
 "nbformat": 4,
 "nbformat_minor": 2
}
