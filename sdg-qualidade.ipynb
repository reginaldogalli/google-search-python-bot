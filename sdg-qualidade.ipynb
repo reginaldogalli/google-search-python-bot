{
 "cells": [
  {
   "cell_type": "code",
   "execution_count": 9,
   "metadata": {},
   "outputs": [],
   "source": [
    "from selenium import webdriver\n",
    "from selenium.webdriver.chrome.service import Service\n",
    "from selenium.webdriver.common.by import By\n",
    "import time\n",
    "from selenium.webdriver.common.keys import Keys\n",
    "service = Service()\n",
    "options = webdriver.ChromeOptions()\n",
    "navegador = webdriver.Chrome(service=service, options=options)\n",
    "ip = 'http://192.168.3.128'"
   ]
  },
  {
   "cell_type": "code",
   "execution_count": 10,
   "metadata": {},
   "outputs": [
    {
     "name": "stdout",
     "output_type": "stream",
     "text": [
      "EXECUTANDO ROBÔ DE CONFIGURAÇÃO SDG\n"
     ]
    }
   ],
   "source": [
    "print('EXECUTANDO ROBÔ DE CONFIGURAÇÃO SDG')\n",
    "\n",
    "navegador.get(ip)\n",
    "time.sleep(2)"
   ]
  },
  {
   "cell_type": "code",
   "execution_count": 11,
   "metadata": {},
   "outputs": [],
   "source": [
    "entrar = '//*[@id=\"buttonEntrar\"]' \n",
    "campoUsuario = '//*[@id=\"inputUsuario\"]'\n",
    "campoSenha = '//*[@id=\"inputSenha\"]'\n",
    "entrarForm = '//*[@id=\"btn-submit\"]'\n",
    "menuHamburger = '//*[@id=\"divNavbar\"]/nav/div/div[1]/button'\n",
    "usuario = 'TTadmin'\n",
    "senha = 'senh@Intern@'\n",
    "try:\n",
    "    navegador.find_element(By.XPATH, entrar).click()\n",
    "    time.sleep(2)\n",
    "    navegador.find_element(By.XPATH, campoUsuario).send_keys(usuario)\n",
    "    navegador.find_element(By.XPATH, campoSenha).send_keys(senha)\n",
    "    navegador.find_element(By.XPATH, entrarForm).click()\n",
    "except:\n",
    "    navegador.find_element(By.XPATH, menuHamburger).click()\n",
    "    time.sleep(2)\n",
    "    navegador.find_element(By.XPATH, entrar).click()\n",
    "    time.sleep(2)\n",
    "    navegador.find_element(By.XPATH, campoUsuario).send_keys(usuario)\n",
    "    navegador.find_element(By.XPATH, campoSenha).send_keys(senha)\n",
    "    navegador.find_element(By.XPATH, entrarForm).click()"
   ]
  },
  {
   "cell_type": "code",
   "execution_count": 12,
   "metadata": {},
   "outputs": [],
   "source": [
    "time.sleep(2)\n",
    "ip = 'http://192.168.3.128'\n",
    "editaApp = ip + '/menu/configuracao/'\n",
    "clonar = '//*[@id=\"liClonar\"]'\n",
    "aceitaClonar = '//*[@id=\"modalBotaoSim\"]'\n",
    "editar = '//*[@id=\"liEditar\"]'\n",
    "aceitaEditar = '//*[@id=\"modalBotaoOk\"]'\n",
    "navegador.get(editaApp)\n",
    "navegador.find_element(By.XPATH, clonar).click()\n",
    "time.sleep(2)\n",
    "navegador.find_element(By.XPATH, aceitaClonar).click()\n",
    "time.sleep(2)\n",
    "navegador.find_element(By.XPATH, editar).click()\n",
    "time.sleep(2)\n",
    "navegador.find_element(By.XPATH, aceitaEditar).click()"
   ]
  },
  {
   "cell_type": "code",
   "execution_count": 23,
   "metadata": {},
   "outputs": [
    {
     "name": "stdout",
     "output_type": "stream",
     "text": [
      "\n",
      "Listando IEDs. Aguarde...\n",
      "Lista dos IEDs encontrados: \n",
      "\n",
      "[1] - MBR\n",
      "[2] - TM\n",
      "[3] - BM\n",
      "\n",
      "Acessando o IED escolhido: TM\n"
     ]
    }
   ],
   "source": [
    "while 1:\n",
    "    time.sleep(1)\n",
    "    listaIED = []\n",
    "    modbusSaida = ip + '/config/modbus/saida/'\n",
    "    campoIED = '/html/body/div[4]/div/div/form[1]/div/span/span[1]/span'\n",
    "    down = '\\ue015'\n",
    "    up = '\\ue013'\n",
    "    enter = '\\ue007'\n",
    "\n",
    "    navegador.get(modbusSaida)\n",
    "    time.sleep(2)\n",
    "    print('\\nListando IEDs. Aguarde...')\n",
    "\n",
    "    j = 0\n",
    "    z = 1\n",
    "    while z == 1:\n",
    "        navegador.find_element(By.XPATH, campoIED).click()\n",
    "        for i in range(j+1):\n",
    "            navegador.find_element(By.XPATH, campoIED).send_keys(down)\n",
    "        navegador.find_element(By.XPATH, campoIED).send_keys(enter)\n",
    "        time.sleep(2)\n",
    "        findIED = navegador.find_element(By.XPATH, '//*[@id=\"tableMbSlave\"]/tbody/tr[1]/td[2]').text\n",
    "        \n",
    "        for check in listaIED:\n",
    "            if findIED == check:\n",
    "                listaIED.pop(-1)\n",
    "                z = 2\n",
    "                break\n",
    "        listaIED.append(findIED)        \n",
    "        continue\n",
    "    \n",
    "    print('Lista dos IEDs encontrados: \\n')\n",
    "    \n",
    "    for indice, elemento in enumerate(listaIED):\n",
    "        print(f\"[{indice+1}] - {elemento}\")\n",
    "    \n",
    "    idIED = int(input('\\nDigite o número do IED escolhido na lista: '))\n",
    "    \n",
    "    time.sleep(1)\n",
    "    print('\\nAcessando o IED escolhido: ' + listaIED[idIED-1])\n",
    "    \n",
    "    navegador.get(modbusSaida)\n",
    "    time.sleep(1)\n",
    "    navegador.find_element(By.XPATH, campoIED).click()\n",
    "    for i in range(idIED):\n",
    "        navegador.find_element(By.XPATH, campoIED).send_keys(down)\n",
    "    navegador.find_element(By.XPATH, campoIED).send_keys(enter)\n",
    "    break"
   ]
  },
  {
   "cell_type": "code",
   "execution_count": 6,
   "metadata": {},
   "outputs": [],
   "source": [
    "time.sleep(1)\n",
    "checked = 'glyphicon-check'\n",
    "editar = '//*[@id=\"initial-state\"]/button[2]'\n",
    "checkbox = 'checkboxDesconsideraQualidade'\n",
    "confirmar = '//*[@id=\"btn-update\"]/span[2]'\n",
    "proximo = '//*[@id=\"tableMbSlave_next\"]/a'\n",
    "while 1:\n",
    "    k = 0\n",
    "    while i < 10:\n",
    "        try:\n",
    "            navegador.find_element(By.CLASS_NAME, checked).click()\n",
    "            time.sleep(1)\n",
    "            navegador.find_element(By.XPATH, editar).click()\n",
    "            time.sleep(2)\n",
    "            navegador.find_element(By.ID, checkbox).click()\n",
    "            time.sleep(1)\n",
    "            navegador.find_element(By.XPATH, confirmar).click()\n",
    "            time.sleep(3)\n",
    "            k = k + 1\n",
    "        except:\n",
    "            break\n",
    "    try:\n",
    "        navegador.find_element(By.XPATH, proximo).click()\n",
    "    except:\n",
    "        break"
   ]
  },
  {
   "cell_type": "code",
   "execution_count": 7,
   "metadata": {},
   "outputs": [],
   "source": [
    "time.sleep(1)\n",
    "linkAdmin = '//*[@id=\"aUsuario\"]/span[2]'\n",
    "menuHamburger = '/html/body/nav/div/div[1]/button'\n",
    "sairEdicao = '//*[@id=\"li-exit-config\"]/a'\n",
    "\n",
    "try:\n",
    "    navegador.find_element(By.XPATH, linkAdmin).click()\n",
    "    time.sleep(2)\n",
    "    navegador.find_element(By.XPATH, sairEdicao).click()\n",
    "except:\n",
    "    navegador.find_element(By.XPATH, menuHamburger).click()\n",
    "    time.sleep(2)\n",
    "    navegador.find_element(By.XPATH, linkAdmin).click()\n",
    "    time.sleep(2)\n",
    "    navegador.find_element(By.XPATH, sairEdicao).click()\n",
    "\n"
   ]
  },
  {
   "cell_type": "code",
   "execution_count": 8,
   "metadata": {},
   "outputs": [],
   "source": [
    "time.sleep(2)\n",
    "aplicar = '//*[@id=\"liAplicar\"]'\n",
    "sim = '//*[@id=\"modalBotaoSim\"]'\n",
    "\n",
    "navegador.find_element(By.XPATH, aplicar).click()\n",
    "time.sleep(2)\n",
    "navegador.find_element(By.XPATH, sim).click()"
   ]
  }
 ],
 "metadata": {
  "kernelspec": {
   "display_name": "Python 3",
   "language": "python",
   "name": "python3"
  },
  "language_info": {
   "codemirror_mode": {
    "name": "ipython",
    "version": 3
   },
   "file_extension": ".py",
   "mimetype": "text/x-python",
   "name": "python",
   "nbconvert_exporter": "python",
   "pygments_lexer": "ipython3",
   "version": "3.10.2"
  }
 },
 "nbformat": 4,
 "nbformat_minor": 2
}
