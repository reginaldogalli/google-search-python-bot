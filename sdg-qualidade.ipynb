{
 "cells": [
  {
   "cell_type": "code",
   "execution_count": 1,
   "metadata": {},
   "outputs": [],
   "source": [
    "from selenium import webdriver\n",
    "from selenium.webdriver.chrome.service import Service\n",
    "from selenium.webdriver.common.by import By\n",
    "import time\n",
    "from selenium.webdriver.common.keys import Keys\n",
    "service = Service()\n",
    "options = webdriver.ChromeOptions()\n",
    "navegador = webdriver.Chrome(service=service, options=options)\n",
    "ip = 'http://192.168.3.128'"
   ]
  },
  {
   "cell_type": "code",
   "execution_count": 2,
   "metadata": {},
   "outputs": [
    {
     "name": "stdout",
     "output_type": "stream",
     "text": [
      "EXECUTANDO ROBÔ DE CONFIGURAÇÃO SDG\n"
     ]
    }
   ],
   "source": [
    "print('EXECUTANDO ROBÔ DE CONFIGURAÇÃO SDG')\n",
    "\n",
    "navegador.get(ip)\n",
    "time.sleep(2)"
   ]
  },
  {
   "cell_type": "code",
   "execution_count": 3,
   "metadata": {},
   "outputs": [],
   "source": [
    "entrar = '//*[@id=\"buttonEntrar\"]' \n",
    "campoUsuario = '//*[@id=\"inputUsuario\"]'\n",
    "campoSenha = '//*[@id=\"inputSenha\"]'\n",
    "entrarForm = '//*[@id=\"btn-submit\"]'\n",
    "menuHamburger = '//*[@id=\"divNavbar\"]/nav/div/div[1]/button'\n",
    "usuario = 'TTadmin'\n",
    "senha = 'senh@Intern@'\n",
    "try:\n",
    "    navegador.find_element(By.XPATH, entrar).click()\n",
    "    time.sleep(2)\n",
    "    navegador.find_element(By.XPATH, campoUsuario).send_keys(usuario)\n",
    "    navegador.find_element(By.XPATH, campoSenha).send_keys(senha)\n",
    "    navegador.find_element(By.XPATH, entrarForm).click()\n",
    "except:\n",
    "    navegador.find_element(By.XPATH, menuHamburger).click()\n",
    "    time.sleep(2)\n",
    "    navegador.find_element(By.XPATH, entrar).click()\n",
    "    time.sleep(2)\n",
    "    navegador.find_element(By.XPATH, campoUsuario).send_keys(usuario)\n",
    "    navegador.find_element(By.XPATH, campoSenha).send_keys(senha)\n",
    "    navegador.find_element(By.XPATH, entrarForm).click()"
   ]
  },
  {
   "cell_type": "code",
   "execution_count": 4,
   "metadata": {},
   "outputs": [],
   "source": [
    "time.sleep(2)\n",
    "ip = 'http://192.168.3.128'\n",
    "editaApp = ip + '/menu/configuracao/'\n",
    "clonar = '//*[@id=\"liClonar\"]'\n",
    "aceitaClonar = '//*[@id=\"modalBotaoSim\"]'\n",
    "editar = '//*[@id=\"liEditar\"]'\n",
    "aceitaEditar = '//*[@id=\"modalBotaoOk\"]'\n",
    "navegador.get(editaApp)\n",
    "navegador.find_element(By.XPATH, clonar).click()\n",
    "time.sleep(2)\n",
    "navegador.find_element(By.XPATH, aceitaClonar).click()\n",
    "time.sleep(2)\n",
    "navegador.find_element(By.XPATH, editar).click()\n",
    "time.sleep(2)\n",
    "navegador.find_element(By.XPATH, aceitaEditar).click()"
   ]
  },
  {
   "cell_type": "code",
   "execution_count": 5,
   "metadata": {},
   "outputs": [],
   "source": [
    "time.sleep(1)\n",
    "modbusSaida = ip + '/config/modbus/saida/'\n",
    "campoIED = '/html/body/div[4]/div/div/form[1]/div/span/span[1]/span/span[1]'\n",
    "idIED = '/html/body/span/span/span[2]/ul/li[4]'\n",
    "navegador.get(modbusSaida)\n",
    "time.sleep(2)\n",
    "navegador.find_element(By.XPATH, campoIED).click()\n",
    "time.sleep(2)\n",
    "navegador.find_element(By.XPATH, idIED).click()"
   ]
  },
  {
   "cell_type": "code",
   "execution_count": 6,
   "metadata": {},
   "outputs": [],
   "source": [
    "time.sleep(1)\n",
    "checked = 'glyphicon-check'\n",
    "editar = '//*[@id=\"initial-state\"]/button[2]'\n",
    "checkbox = 'checkboxDesconsideraQualidade'\n",
    "confirmar = '//*[@id=\"btn-update\"]/span[2]'\n",
    "proximo = '//*[@id=\"tableMbSlave_next\"]/a'\n",
    "while 1:\n",
    "    i = 0\n",
    "    while i < 10:\n",
    "        try:\n",
    "            navegador.find_element(By.CLASS_NAME, checked).click()\n",
    "            time.sleep(1)\n",
    "            navegador.find_element(By.XPATH, editar).click()\n",
    "            time.sleep(2)\n",
    "            navegador.find_element(By.ID, checkbox).click()\n",
    "            time.sleep(1)\n",
    "            navegador.find_element(By.XPATH, confirmar).click()\n",
    "            time.sleep(3)\n",
    "            i = i + 1\n",
    "        except:\n",
    "            break\n",
    "    try:\n",
    "        navegador.find_element(By.XPATH, proximo).click()\n",
    "    except:\n",
    "        break"
   ]
  },
  {
   "cell_type": "code",
   "execution_count": 7,
   "metadata": {},
   "outputs": [
    {
     "name": "stderr",
     "output_type": "stream",
     "text": [
      "Exception ignored in: <bound method IPythonKernel._clean_thread_parent_frames of <ipykernel.ipkernel.IPythonKernel object at 0x00000165314EE110>>\n",
      "Traceback (most recent call last):\n",
      "  File \"C:\\Users\\Reginaldo Santos\\AppData\\Roaming\\Python\\Python310\\site-packages\\ipykernel\\ipkernel.py\", line 788, in _clean_thread_parent_frames\n",
      "    if phase != \"start\":\n",
      "KeyboardInterrupt: \n"
     ]
    },
    {
     "ename": "NoSuchWindowException",
     "evalue": "Message: no such window: target window already closed\nfrom unknown error: web view not found\n  (Session info: chrome=123.0.6312.123)\nStacktrace:\n\tGetHandleVerifier [0x00007FF727407032+63090]\n\t(No symbol) [0x00007FF727372C82]\n\t(No symbol) [0x00007FF72720EC65]\n\t(No symbol) [0x00007FF7271ECA7C]\n\t(No symbol) [0x00007FF72727D687]\n\t(No symbol) [0x00007FF727292AC1]\n\t(No symbol) [0x00007FF727276D83]\n\t(No symbol) [0x00007FF7272483A8]\n\t(No symbol) [0x00007FF727249441]\n\tGetHandleVerifier [0x00007FF7278025AD+4238317]\n\tGetHandleVerifier [0x00007FF72783F70D+4488525]\n\tGetHandleVerifier [0x00007FF7278379EF+4456495]\n\tGetHandleVerifier [0x00007FF7274E0576+953270]\n\t(No symbol) [0x00007FF72737E54F]\n\t(No symbol) [0x00007FF727379224]\n\t(No symbol) [0x00007FF72737935B]\n\t(No symbol) [0x00007FF727369B94]\n\tBaseThreadInitThunk [0x00007FFB1C2B257D+29]\n\tRtlUserThreadStart [0x00007FFB1DC4AA48+40]\n",
     "output_type": "error",
     "traceback": [
      "\u001b[1;31m---------------------------------------------------------------------------\u001b[0m",
      "\u001b[1;31mNoSuchWindowException\u001b[0m                     Traceback (most recent call last)",
      "Cell \u001b[1;32mIn[7], line 7\u001b[0m\n\u001b[0;32m      6\u001b[0m \u001b[38;5;28;01mtry\u001b[39;00m:\n\u001b[1;32m----> 7\u001b[0m     \u001b[43mnavegador\u001b[49m\u001b[38;5;241;43m.\u001b[39;49m\u001b[43mfind_element\u001b[49m\u001b[43m(\u001b[49m\u001b[43mBy\u001b[49m\u001b[38;5;241;43m.\u001b[39;49m\u001b[43mXPATH\u001b[49m\u001b[43m,\u001b[49m\u001b[43m \u001b[49m\u001b[43mlinkAdmin\u001b[49m\u001b[43m)\u001b[49m\u001b[38;5;241m.\u001b[39mclick()\n\u001b[0;32m      8\u001b[0m     time\u001b[38;5;241m.\u001b[39msleep(\u001b[38;5;241m2\u001b[39m)\n",
      "File \u001b[1;32mc:\\Users\\Reginaldo Santos\\AppData\\Local\\Programs\\Python\\Python310\\lib\\site-packages\\selenium\\webdriver\\remote\\webdriver.py:741\u001b[0m, in \u001b[0;36mWebDriver.find_element\u001b[1;34m(self, by, value)\u001b[0m\n\u001b[0;32m    739\u001b[0m     value \u001b[38;5;241m=\u001b[39m \u001b[38;5;124mf\u001b[39m\u001b[38;5;124m'\u001b[39m\u001b[38;5;124m[name=\u001b[39m\u001b[38;5;124m\"\u001b[39m\u001b[38;5;132;01m{\u001b[39;00mvalue\u001b[38;5;132;01m}\u001b[39;00m\u001b[38;5;124m\"\u001b[39m\u001b[38;5;124m]\u001b[39m\u001b[38;5;124m'\u001b[39m\n\u001b[1;32m--> 741\u001b[0m \u001b[38;5;28;01mreturn\u001b[39;00m \u001b[38;5;28;43mself\u001b[39;49m\u001b[38;5;241;43m.\u001b[39;49m\u001b[43mexecute\u001b[49m\u001b[43m(\u001b[49m\u001b[43mCommand\u001b[49m\u001b[38;5;241;43m.\u001b[39;49m\u001b[43mFIND_ELEMENT\u001b[49m\u001b[43m,\u001b[49m\u001b[43m \u001b[49m\u001b[43m{\u001b[49m\u001b[38;5;124;43m\"\u001b[39;49m\u001b[38;5;124;43musing\u001b[39;49m\u001b[38;5;124;43m\"\u001b[39;49m\u001b[43m:\u001b[49m\u001b[43m \u001b[49m\u001b[43mby\u001b[49m\u001b[43m,\u001b[49m\u001b[43m \u001b[49m\u001b[38;5;124;43m\"\u001b[39;49m\u001b[38;5;124;43mvalue\u001b[39;49m\u001b[38;5;124;43m\"\u001b[39;49m\u001b[43m:\u001b[49m\u001b[43m \u001b[49m\u001b[43mvalue\u001b[49m\u001b[43m}\u001b[49m\u001b[43m)\u001b[49m[\u001b[38;5;124m\"\u001b[39m\u001b[38;5;124mvalue\u001b[39m\u001b[38;5;124m\"\u001b[39m]\n",
      "File \u001b[1;32mc:\\Users\\Reginaldo Santos\\AppData\\Local\\Programs\\Python\\Python310\\lib\\site-packages\\selenium\\webdriver\\remote\\webdriver.py:347\u001b[0m, in \u001b[0;36mWebDriver.execute\u001b[1;34m(self, driver_command, params)\u001b[0m\n\u001b[0;32m    346\u001b[0m \u001b[38;5;28;01mif\u001b[39;00m response:\n\u001b[1;32m--> 347\u001b[0m     \u001b[38;5;28;43mself\u001b[39;49m\u001b[38;5;241;43m.\u001b[39;49m\u001b[43merror_handler\u001b[49m\u001b[38;5;241;43m.\u001b[39;49m\u001b[43mcheck_response\u001b[49m\u001b[43m(\u001b[49m\u001b[43mresponse\u001b[49m\u001b[43m)\u001b[49m\n\u001b[0;32m    348\u001b[0m     response[\u001b[38;5;124m\"\u001b[39m\u001b[38;5;124mvalue\u001b[39m\u001b[38;5;124m\"\u001b[39m] \u001b[38;5;241m=\u001b[39m \u001b[38;5;28mself\u001b[39m\u001b[38;5;241m.\u001b[39m_unwrap_value(response\u001b[38;5;241m.\u001b[39mget(\u001b[38;5;124m\"\u001b[39m\u001b[38;5;124mvalue\u001b[39m\u001b[38;5;124m\"\u001b[39m, \u001b[38;5;28;01mNone\u001b[39;00m))\n",
      "File \u001b[1;32mc:\\Users\\Reginaldo Santos\\AppData\\Local\\Programs\\Python\\Python310\\lib\\site-packages\\selenium\\webdriver\\remote\\errorhandler.py:229\u001b[0m, in \u001b[0;36mErrorHandler.check_response\u001b[1;34m(self, response)\u001b[0m\n\u001b[0;32m    228\u001b[0m     \u001b[38;5;28;01mraise\u001b[39;00m exception_class(message, screen, stacktrace, alert_text)  \u001b[38;5;66;03m# type: ignore[call-arg]  # mypy is not smart enough here\u001b[39;00m\n\u001b[1;32m--> 229\u001b[0m \u001b[38;5;28;01mraise\u001b[39;00m exception_class(message, screen, stacktrace)\n",
      "\u001b[1;31mNoSuchWindowException\u001b[0m: Message: no such window: target window already closed\nfrom unknown error: web view not found\n  (Session info: chrome=123.0.6312.123)\nStacktrace:\n\tGetHandleVerifier [0x00007FF727407032+63090]\n\t(No symbol) [0x00007FF727372C82]\n\t(No symbol) [0x00007FF72720EC65]\n\t(No symbol) [0x00007FF7271ECA7C]\n\t(No symbol) [0x00007FF72727D687]\n\t(No symbol) [0x00007FF727292AC1]\n\t(No symbol) [0x00007FF727276D83]\n\t(No symbol) [0x00007FF7272483A8]\n\t(No symbol) [0x00007FF727249441]\n\tGetHandleVerifier [0x00007FF7278025AD+4238317]\n\tGetHandleVerifier [0x00007FF72783F70D+4488525]\n\tGetHandleVerifier [0x00007FF7278379EF+4456495]\n\tGetHandleVerifier [0x00007FF7274E0576+953270]\n\t(No symbol) [0x00007FF72737E54F]\n\t(No symbol) [0x00007FF727379224]\n\t(No symbol) [0x00007FF72737935B]\n\t(No symbol) [0x00007FF727369B94]\n\tBaseThreadInitThunk [0x00007FFB1C2B257D+29]\n\tRtlUserThreadStart [0x00007FFB1DC4AA48+40]\n",
      "\nDuring handling of the above exception, another exception occurred:\n",
      "\u001b[1;31mNoSuchWindowException\u001b[0m                     Traceback (most recent call last)",
      "Cell \u001b[1;32mIn[7], line 11\u001b[0m\n\u001b[0;32m      9\u001b[0m     navegador\u001b[38;5;241m.\u001b[39mfind_element(By\u001b[38;5;241m.\u001b[39mXPATH, sairEdicao)\u001b[38;5;241m.\u001b[39mclick()\n\u001b[0;32m     10\u001b[0m \u001b[38;5;28;01mexcept\u001b[39;00m:\n\u001b[1;32m---> 11\u001b[0m     \u001b[43mnavegador\u001b[49m\u001b[38;5;241;43m.\u001b[39;49m\u001b[43mfind_element\u001b[49m\u001b[43m(\u001b[49m\u001b[43mBy\u001b[49m\u001b[38;5;241;43m.\u001b[39;49m\u001b[43mXPATH\u001b[49m\u001b[43m,\u001b[49m\u001b[43m \u001b[49m\u001b[43mmenuHamburger\u001b[49m\u001b[43m)\u001b[49m\u001b[38;5;241m.\u001b[39mclick()\n\u001b[0;32m     12\u001b[0m     time\u001b[38;5;241m.\u001b[39msleep(\u001b[38;5;241m2\u001b[39m)\n\u001b[0;32m     13\u001b[0m     navegador\u001b[38;5;241m.\u001b[39mfind_element(By\u001b[38;5;241m.\u001b[39mXPATH, linkAdmin)\u001b[38;5;241m.\u001b[39mclick()\n",
      "File \u001b[1;32mc:\\Users\\Reginaldo Santos\\AppData\\Local\\Programs\\Python\\Python310\\lib\\site-packages\\selenium\\webdriver\\remote\\webdriver.py:741\u001b[0m, in \u001b[0;36mWebDriver.find_element\u001b[1;34m(self, by, value)\u001b[0m\n\u001b[0;32m    738\u001b[0m     by \u001b[38;5;241m=\u001b[39m By\u001b[38;5;241m.\u001b[39mCSS_SELECTOR\n\u001b[0;32m    739\u001b[0m     value \u001b[38;5;241m=\u001b[39m \u001b[38;5;124mf\u001b[39m\u001b[38;5;124m'\u001b[39m\u001b[38;5;124m[name=\u001b[39m\u001b[38;5;124m\"\u001b[39m\u001b[38;5;132;01m{\u001b[39;00mvalue\u001b[38;5;132;01m}\u001b[39;00m\u001b[38;5;124m\"\u001b[39m\u001b[38;5;124m]\u001b[39m\u001b[38;5;124m'\u001b[39m\n\u001b[1;32m--> 741\u001b[0m \u001b[38;5;28;01mreturn\u001b[39;00m \u001b[38;5;28;43mself\u001b[39;49m\u001b[38;5;241;43m.\u001b[39;49m\u001b[43mexecute\u001b[49m\u001b[43m(\u001b[49m\u001b[43mCommand\u001b[49m\u001b[38;5;241;43m.\u001b[39;49m\u001b[43mFIND_ELEMENT\u001b[49m\u001b[43m,\u001b[49m\u001b[43m \u001b[49m\u001b[43m{\u001b[49m\u001b[38;5;124;43m\"\u001b[39;49m\u001b[38;5;124;43musing\u001b[39;49m\u001b[38;5;124;43m\"\u001b[39;49m\u001b[43m:\u001b[49m\u001b[43m \u001b[49m\u001b[43mby\u001b[49m\u001b[43m,\u001b[49m\u001b[43m \u001b[49m\u001b[38;5;124;43m\"\u001b[39;49m\u001b[38;5;124;43mvalue\u001b[39;49m\u001b[38;5;124;43m\"\u001b[39;49m\u001b[43m:\u001b[49m\u001b[43m \u001b[49m\u001b[43mvalue\u001b[49m\u001b[43m}\u001b[49m\u001b[43m)\u001b[49m[\u001b[38;5;124m\"\u001b[39m\u001b[38;5;124mvalue\u001b[39m\u001b[38;5;124m\"\u001b[39m]\n",
      "File \u001b[1;32mc:\\Users\\Reginaldo Santos\\AppData\\Local\\Programs\\Python\\Python310\\lib\\site-packages\\selenium\\webdriver\\remote\\webdriver.py:347\u001b[0m, in \u001b[0;36mWebDriver.execute\u001b[1;34m(self, driver_command, params)\u001b[0m\n\u001b[0;32m    345\u001b[0m response \u001b[38;5;241m=\u001b[39m \u001b[38;5;28mself\u001b[39m\u001b[38;5;241m.\u001b[39mcommand_executor\u001b[38;5;241m.\u001b[39mexecute(driver_command, params)\n\u001b[0;32m    346\u001b[0m \u001b[38;5;28;01mif\u001b[39;00m response:\n\u001b[1;32m--> 347\u001b[0m     \u001b[38;5;28;43mself\u001b[39;49m\u001b[38;5;241;43m.\u001b[39;49m\u001b[43merror_handler\u001b[49m\u001b[38;5;241;43m.\u001b[39;49m\u001b[43mcheck_response\u001b[49m\u001b[43m(\u001b[49m\u001b[43mresponse\u001b[49m\u001b[43m)\u001b[49m\n\u001b[0;32m    348\u001b[0m     response[\u001b[38;5;124m\"\u001b[39m\u001b[38;5;124mvalue\u001b[39m\u001b[38;5;124m\"\u001b[39m] \u001b[38;5;241m=\u001b[39m \u001b[38;5;28mself\u001b[39m\u001b[38;5;241m.\u001b[39m_unwrap_value(response\u001b[38;5;241m.\u001b[39mget(\u001b[38;5;124m\"\u001b[39m\u001b[38;5;124mvalue\u001b[39m\u001b[38;5;124m\"\u001b[39m, \u001b[38;5;28;01mNone\u001b[39;00m))\n\u001b[0;32m    349\u001b[0m     \u001b[38;5;28;01mreturn\u001b[39;00m response\n",
      "File \u001b[1;32mc:\\Users\\Reginaldo Santos\\AppData\\Local\\Programs\\Python\\Python310\\lib\\site-packages\\selenium\\webdriver\\remote\\errorhandler.py:229\u001b[0m, in \u001b[0;36mErrorHandler.check_response\u001b[1;34m(self, response)\u001b[0m\n\u001b[0;32m    227\u001b[0m         alert_text \u001b[38;5;241m=\u001b[39m value[\u001b[38;5;124m\"\u001b[39m\u001b[38;5;124malert\u001b[39m\u001b[38;5;124m\"\u001b[39m]\u001b[38;5;241m.\u001b[39mget(\u001b[38;5;124m\"\u001b[39m\u001b[38;5;124mtext\u001b[39m\u001b[38;5;124m\"\u001b[39m)\n\u001b[0;32m    228\u001b[0m     \u001b[38;5;28;01mraise\u001b[39;00m exception_class(message, screen, stacktrace, alert_text)  \u001b[38;5;66;03m# type: ignore[call-arg]  # mypy is not smart enough here\u001b[39;00m\n\u001b[1;32m--> 229\u001b[0m \u001b[38;5;28;01mraise\u001b[39;00m exception_class(message, screen, stacktrace)\n",
      "\u001b[1;31mNoSuchWindowException\u001b[0m: Message: no such window: target window already closed\nfrom unknown error: web view not found\n  (Session info: chrome=123.0.6312.123)\nStacktrace:\n\tGetHandleVerifier [0x00007FF727407032+63090]\n\t(No symbol) [0x00007FF727372C82]\n\t(No symbol) [0x00007FF72720EC65]\n\t(No symbol) [0x00007FF7271ECA7C]\n\t(No symbol) [0x00007FF72727D687]\n\t(No symbol) [0x00007FF727292AC1]\n\t(No symbol) [0x00007FF727276D83]\n\t(No symbol) [0x00007FF7272483A8]\n\t(No symbol) [0x00007FF727249441]\n\tGetHandleVerifier [0x00007FF7278025AD+4238317]\n\tGetHandleVerifier [0x00007FF72783F70D+4488525]\n\tGetHandleVerifier [0x00007FF7278379EF+4456495]\n\tGetHandleVerifier [0x00007FF7274E0576+953270]\n\t(No symbol) [0x00007FF72737E54F]\n\t(No symbol) [0x00007FF727379224]\n\t(No symbol) [0x00007FF72737935B]\n\t(No symbol) [0x00007FF727369B94]\n\tBaseThreadInitThunk [0x00007FFB1C2B257D+29]\n\tRtlUserThreadStart [0x00007FFB1DC4AA48+40]\n"
     ]
    }
   ],
   "source": [
    "time.sleep(1)\n",
    "linkAdmin = '//*[@id=\"aUsuario\"]/span[2]'\n",
    "menuHamburger = '/html/body/nav/div/div[1]/button'\n",
    "sairEdicao = '//*[@id=\"li-exit-config\"]/a'\n",
    "\n",
    "try:\n",
    "    navegador.find_element(By.XPATH, linkAdmin).click()\n",
    "    time.sleep(2)\n",
    "    navegador.find_element(By.XPATH, sairEdicao).click()\n",
    "except:\n",
    "    navegador.find_element(By.XPATH, menuHamburger).click()\n",
    "    time.sleep(2)\n",
    "    navegador.find_element(By.XPATH, linkAdmin).click()\n",
    "    time.sleep(2)\n",
    "    navegador.find_element(By.XPATH, sairEdicao).click()\n",
    "\n"
   ]
  },
  {
   "cell_type": "code",
   "execution_count": null,
   "metadata": {},
   "outputs": [],
   "source": [
    "time.sleep(2)\n",
    "aplicar = '//*[@id=\"liAplicar\"]'\n",
    "sim = '//*[@id=\"modalBotaoSim\"]'\n",
    "\n",
    "navegador.find_element(By.XPATH, aplicar).click()\n",
    "time.sleep(2)\n",
    "navegador.find_element(By.XPATH, sim).click()"
   ]
  }
 ],
 "metadata": {
  "kernelspec": {
   "display_name": "Python 3",
   "language": "python",
   "name": "python3"
  },
  "language_info": {
   "codemirror_mode": {
    "name": "ipython",
    "version": 3
   },
   "file_extension": ".py",
   "mimetype": "text/x-python",
   "name": "python",
   "nbconvert_exporter": "python",
   "pygments_lexer": "ipython3",
   "version": "3.10.2"
  }
 },
 "nbformat": 4,
 "nbformat_minor": 2
}
